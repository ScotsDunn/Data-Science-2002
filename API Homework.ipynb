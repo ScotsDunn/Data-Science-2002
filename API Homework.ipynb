{
 "cells": [
  {
   "cell_type": "markdown",
   "id": "99cc4f35-d898-4b83-be38-a6699ae151ea",
   "metadata": {},
   "source": [
    "Challenge:\r\n",
    "You have seen some examples of how to interact with JSON, CSV and make API Calls. Take some time to explore the YAHOO Finance Guide at https://financeapi.net/ which shows you endpoints for calling information. Your job is to code a Python Program that does the following things:\n",
    "You will have to read the documentation and figure out which modules to call to get the data that you need. You will need to make more than one call to this API. Use the examples in our Zoom Session to guide you, but the documentation will be enough. Post your code to GitHub.t 5 days. \r\n"
   ]
  },
  {
   "cell_type": "markdown",
   "id": "93f61f84-71c1-4007-8f93-cbb8b9c90452",
   "metadata": {},
   "source": [
    "#### 1. Takes user input for a stock (using the Ticker Symbol): IE with the input() command"
   ]
  },
  {
   "cell_type": "code",
   "execution_count": 54,
   "id": "5824af5f-dc1e-40fd-9d8d-3ff297602a78",
   "metadata": {},
   "outputs": [],
   "source": [
    "import requests\n",
    "import json\n",
    "import pandas as pd\n",
    "apikey= \"JqxGHKiLmp7k67sJcFcU03Fglm4MuS7d3B5ItSXz\""
   ]
  },
  {
   "cell_type": "code",
   "execution_count": 56,
   "id": "37fb706b-5bd9-44ae-8a6b-690aa3ff7469",
   "metadata": {},
   "outputs": [
    {
     "name": "stdout",
     "output_type": "stream",
     "text": [
      "Enter a comma seperated list of stocks\n"
     ]
    },
    {
     "name": "stdin",
     "output_type": "stream",
     "text": [
      " AAPL, Msft, amzn, bitcoin\n"
     ]
    }
   ],
   "source": [
    "print(\"Enter a comma seperated list of stocks\")\n",
    "stocks = input()\n",
    "stocks = stocks.upper()\n",
    "stocks = stocks.split(\",\")"
   ]
  },
  {
   "cell_type": "markdown",
   "id": "bc8cc650-b0c8-4295-a542-a5c497ca183e",
   "metadata": {},
   "source": [
    "#### 2.\tYou will display back the user: Ticker Name, Full Name of the Stock, Current Market Price, Target Mean Price, 52 week high and 52 week low."
   ]
  },
  {
   "cell_type": "code",
   "execution_count": 58,
   "id": "ccc977a3-76bf-4a8e-b0d4-dd89afda906b",
   "metadata": {},
   "outputs": [
    {
     "name": "stdout",
     "output_type": "stream",
     "text": [
      "Apple Inc. (AAPL)\n",
      " - Current Market price: $227.79\n",
      " - Target Mean price: $250.0\n",
      " - 52 week high: 237.23\n",
      " - 52 week low: 164.08\n",
      "Microsoft Corporation (MSFT)\n",
      " - Current Market price: $428.02\n",
      " - Target Mean price: $526.0\n",
      " - 52 week high: 468.35\n",
      " - 52 week low: 311.21\n",
      "Amazon.com, Inc. (AMZN)\n",
      " - Current Market price: $187.97\n",
      " - Target Mean price: $205.0\n",
      " - 52 week high: 201.2\n",
      " - 52 week low: 118.35\n",
      "\n",
      " BITCOIN is an invalid ticker \n",
      "\n"
     ]
    }
   ],
   "source": [
    "url = \"https://yfapi.net/v6/finance/quote\"\n",
    "url2 = \"https://yfapi.net/ws/insights/v1/finance/insights\"\n",
    "\n",
    "headers = {\n",
    "    'x-api-key': apikey\n",
    "    }\n",
    "\n",
    "for x in stocks:\n",
    "    querystring = {\"symbols\": x}\n",
    "    querystring2 = {\"symbol\": x}\n",
    "\n",
    "    try:\n",
    "        response = requests.request(\"GET\", url, headers=headers, params=querystring)\n",
    "        stocks_json = response.json()\n",
    "\n",
    "        response2 = requests.request(\"GET\", url2, headers=headers, params=querystring2)\n",
    "        stocks2_json = response2.json()\n",
    "\n",
    "    except:\n",
    "        print(\"An error has occured on the API call. Make sure you are entering valid tickers in a comma seperated format and that the api key is valid\")\n",
    "        print(\"Ex: AAPL, amzn, Msft\")\n",
    "    \n",
    "    else:\n",
    "        try:\n",
    "            print(stocks_json['quoteResponse']['result'][0][\"longName\"] + \" (\" + stocks_json['quoteResponse']['result'][0][\"symbol\"] + \")\" + \n",
    "                  \"\\n - Current Market price: $\" + str(stocks_json['quoteResponse']['result'][0][\"regularMarketPrice\"]) + \n",
    "                  \"\\n - Target Mean price: $\" + str(stocks2_json[\"finance\"][\"result\"][\"instrumentInfo\"][\"recommendation\"][\"targetPrice\"]) + \n",
    "                 \"\\n - 52 week high: \" + str(stocks_json['quoteResponse']['result'][0][\"fiftyTwoWeekHigh\"]) + \n",
    "                  \"\\n - 52 week low: \" + str(stocks_json['quoteResponse']['result'][0][\"fiftyTwoWeekLow\"])         \n",
    "                 )\n",
    "        except:\n",
    "            print(\"\\n\" + x + \" is an invalid ticker \\n\")\n",
    "    "
   ]
  },
  {
   "cell_type": "markdown",
   "id": "1850fea9-8526-4708-8eb0-9ef88094f02d",
   "metadata": {},
   "source": [
    "#### Also, output 5 of the current trending stock."
   ]
  },
  {
   "cell_type": "code",
   "execution_count": 61,
   "id": "0e02d9f0-0392-4199-950f-60ecd8251842",
   "metadata": {},
   "outputs": [
    {
     "name": "stdout",
     "output_type": "stream",
     "text": [
      "RACE\n",
      "SCHD\n",
      "VGT\n",
      "AMSC\n",
      "BBD\n"
     ]
    }
   ],
   "source": [
    "urlTrending = \"https://yfapi.net/v1/finance/trending/US\"\n",
    "\n",
    "headers = {\n",
    "    'x-api-key': apikey\n",
    "}\n",
    "try:\n",
    "    response = requests.get(urlTrending, headers=headers)\n",
    "    trending_json = response.json()\n",
    "\n",
    "except:\n",
    "    print(\"An error has occured on the API call. Make sure you are using a valid api key with available daily calls\")\n",
    "\n",
    "ticker_list = []\n",
    "for quote in trending_json['finance']['result'][0]['quotes']:\n",
    "    ticker_list.append(quote['symbol'])\n",
    "\n",
    "for i in range(5):\n",
    "    print(ticker_list[i])"
   ]
  },
  {
   "cell_type": "markdown",
   "id": "b2525367-894f-4f48-892a-1939ce03c314",
   "metadata": {},
   "source": [
    "#### 3.\tPut that data in a DataFrame and then store that to a CSV file"
   ]
  },
  {
   "cell_type": "code",
   "execution_count": 64,
   "id": "173746ea-a73b-40a1-b536-d49ff426f2cd",
   "metadata": {},
   "outputs": [
    {
     "name": "stdout",
     "output_type": "stream",
     "text": [
      "\n",
      " BITCOIN is an invalid ticker \n",
      "\n"
     ]
    },
    {
     "data": {
      "text/html": [
       "<div>\n",
       "<style scoped>\n",
       "    .dataframe tbody tr th:only-of-type {\n",
       "        vertical-align: middle;\n",
       "    }\n",
       "\n",
       "    .dataframe tbody tr th {\n",
       "        vertical-align: top;\n",
       "    }\n",
       "\n",
       "    .dataframe thead th {\n",
       "        text-align: right;\n",
       "    }\n",
       "</style>\n",
       "<table border=\"1\" class=\"dataframe\">\n",
       "  <thead>\n",
       "    <tr style=\"text-align: right;\">\n",
       "      <th></th>\n",
       "      <th>Company Name</th>\n",
       "      <th>Symbol</th>\n",
       "      <th>Current Market Price ($)</th>\n",
       "      <th>Target Mean Price ($)</th>\n",
       "      <th>52 Week High ($)</th>\n",
       "      <th>52 Week Low ($)</th>\n",
       "    </tr>\n",
       "  </thead>\n",
       "  <tbody>\n",
       "    <tr>\n",
       "      <th>0</th>\n",
       "      <td>Apple Inc.</td>\n",
       "      <td>AAPL</td>\n",
       "      <td>227.79</td>\n",
       "      <td>250.0</td>\n",
       "      <td>237.23</td>\n",
       "      <td>164.08</td>\n",
       "    </tr>\n",
       "    <tr>\n",
       "      <th>1</th>\n",
       "      <td>Microsoft Corporation</td>\n",
       "      <td>MSFT</td>\n",
       "      <td>428.02</td>\n",
       "      <td>526.0</td>\n",
       "      <td>468.35</td>\n",
       "      <td>311.21</td>\n",
       "    </tr>\n",
       "    <tr>\n",
       "      <th>2</th>\n",
       "      <td>Amazon.com, Inc.</td>\n",
       "      <td>AMZN</td>\n",
       "      <td>187.97</td>\n",
       "      <td>205.0</td>\n",
       "      <td>201.20</td>\n",
       "      <td>118.35</td>\n",
       "    </tr>\n",
       "  </tbody>\n",
       "</table>\n",
       "</div>"
      ],
      "text/plain": [
       "            Company Name Symbol  Current Market Price ($)  \\\n",
       "0             Apple Inc.   AAPL                    227.79   \n",
       "1  Microsoft Corporation   MSFT                    428.02   \n",
       "2       Amazon.com, Inc.   AMZN                    187.97   \n",
       "\n",
       "   Target Mean Price ($)  52 Week High ($)  52 Week Low ($)  \n",
       "0                  250.0            237.23           164.08  \n",
       "1                  526.0            468.35           311.21  \n",
       "2                  205.0            201.20           118.35  "
      ]
     },
     "metadata": {},
     "output_type": "display_data"
    }
   ],
   "source": [
    "data = []\n",
    "\n",
    "for x in stocks:\n",
    "    querystring = {\"symbols\": x}\n",
    "    querystring2 = {\"symbol\": x}\n",
    "\n",
    "    try:\n",
    "        response = requests.request(\"GET\", url, headers=headers, params=querystring)\n",
    "        stocks_json = response.json()\n",
    "    \n",
    "        response2 = requests.request(\"GET\", url2, headers=headers, params=querystring2)\n",
    "        stocks2_json = response2.json()\n",
    "        \n",
    "    except:\n",
    "        print(\"An error has occured on the API call. Make sure you are entering valid tickers in a comma seperated format and that the api key is valid\")\n",
    "        print(\"Ex: AAPL, amzn, Msft\")\n",
    "\n",
    "    else:\n",
    "        try:\n",
    "            long_name = stocks_json['quoteResponse']['result'][0][\"longName\"]\n",
    "            symbol = stocks_json['quoteResponse']['result'][0][\"symbol\"]\n",
    "            current_market_price = stocks_json['quoteResponse']['result'][0][\"regularMarketPrice\"]\n",
    "            target_mean_price = stocks2_json[\"finance\"][\"result\"][\"instrumentInfo\"][\"recommendation\"][\"targetPrice\"]\n",
    "            fifty_two_week_high = stocks_json['quoteResponse']['result'][0][\"fiftyTwoWeekHigh\"]\n",
    "            fifty_two_week_low = stocks_json['quoteResponse']['result'][0][\"fiftyTwoWeekLow\"]\n",
    "    \n",
    "            data.append({\n",
    "                \"Company Name\": long_name,\n",
    "                \"Symbol\": symbol,\n",
    "                \"Current Market Price ($)\": current_market_price,\n",
    "                \"Target Mean Price ($)\": target_mean_price,\n",
    "                \"52 Week High ($)\": fifty_two_week_high,\n",
    "                \"52 Week Low ($)\": fifty_two_week_low\n",
    "            })\n",
    "        except:\n",
    "            print(\"\\n\" + x + \" is an invalid ticker \\n\")\n",
    "\n",
    "data = pd.DataFrame(data)\n",
    "\n",
    "display(data)"
   ]
  },
  {
   "cell_type": "code",
   "execution_count": 66,
   "id": "c9afc4f5-838a-49c5-8607-f1c526f8960a",
   "metadata": {},
   "outputs": [],
   "source": [
    "data.to_csv(\"stock_data.csv\")"
   ]
  },
  {
   "cell_type": "markdown",
   "id": "e9f585fb-43e6-4d4d-9d2b-9c0c382638e4",
   "metadata": {},
   "source": [
    "4.\tHandle Errors (IE, the stock doesn’t exist and/or the API is not returning information)"
   ]
  },
  {
   "cell_type": "markdown",
   "id": "b8f5c2f5-66ea-446b-94b7-71482af78af7",
   "metadata": {},
   "source": [
    "Bonus –\n",
    "1.\tUse MatPlotLib to chart the historical price of a stock price’s highest value over the past 5 days. "
   ]
  }
 ],
 "metadata": {
  "kernelspec": {
   "display_name": "Python 3 (ipykernel)",
   "language": "python",
   "name": "python3"
  },
  "language_info": {
   "codemirror_mode": {
    "name": "ipython",
    "version": 3
   },
   "file_extension": ".py",
   "mimetype": "text/x-python",
   "name": "python",
   "nbconvert_exporter": "python",
   "pygments_lexer": "ipython3",
   "version": "3.12.4"
  }
 },
 "nbformat": 4,
 "nbformat_minor": 5
}

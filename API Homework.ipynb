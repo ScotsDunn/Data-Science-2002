{
 "cells": [
  {
   "cell_type": "markdown",
   "id": "99cc4f35-d898-4b83-be38-a6699ae151ea",
   "metadata": {},
   "source": [
    "Challenge:\r\n",
    "You have seen some examples of how to interact with JSON, CSV and make API Calls. Take some time to explore the YAHOO Finance Guide at https://financeapi.net/ which shows you endpoints for calling information. Your job is to code a Python Program that does the following things:\n",
    "You will have to read the documentation and figure out which modules to call to get the data that you need. You will need to make more than one call to this API. Use the examples in our Zoom Session to guide you, but the documentation will be enough. Post your code to GitHub.t 5 days. \r\n"
   ]
  },
  {
   "cell_type": "markdown",
   "id": "93f61f84-71c1-4007-8f93-cbb8b9c90452",
   "metadata": {},
   "source": [
    "#### 1. Takes user input for a stock (using the Ticker Symbol): IE with the input() command"
   ]
  },
  {
   "cell_type": "code",
   "execution_count": 101,
   "id": "5824af5f-dc1e-40fd-9d8d-3ff297602a78",
   "metadata": {},
   "outputs": [],
   "source": [
    "import requests\n",
    "import json\n",
    "import pandas as pd\n",
    "apikey= \"JqxGHKiLmp7k67sJcFcU03Fglm4MuS7d3B5ItSXz\""
   ]
  },
  {
   "cell_type": "code",
   "execution_count": 71,
   "id": "37fb706b-5bd9-44ae-8a6b-690aa3ff7469",
   "metadata": {},
   "outputs": [
    {
     "name": "stdout",
     "output_type": "stream",
     "text": [
      "Enter a comma seperated list of stocks\n"
     ]
    },
    {
     "name": "stdin",
     "output_type": "stream",
     "text": [
      " aapl\n"
     ]
    }
   ],
   "source": [
    "print(\"Enter a comma seperated list of stocks\")\n",
    "stocks = input()\n",
    "stocks = stocks.upper()\n",
    "stocks = stocks.split(\",\")"
   ]
  },
  {
   "cell_type": "markdown",
   "id": "bc8cc650-b0c8-4295-a542-a5c497ca183e",
   "metadata": {},
   "source": [
    "#### 2.\tYou will display back the user: Ticker Name, Full Name of the Stock, Current Market Price, Target Mean Price, 52 week high and 52 week low."
   ]
  },
  {
   "cell_type": "code",
   "execution_count": 89,
   "id": "ccc977a3-76bf-4a8e-b0d4-dd89afda906b",
   "metadata": {},
   "outputs": [
    {
     "name": "stdout",
     "output_type": "stream",
     "text": [
      "Apple Inc. (AAPL)\n",
      " - Current Market price: $227.52\n",
      " - Target Mean price: $250.0\n",
      " - 52 week high: 237.23\n",
      " - 52 week low: 164.08\n"
     ]
    }
   ],
   "source": [
    "url = \"https://yfapi.net/v6/finance/quote\"\n",
    "url2 = \"https://yfapi.net/ws/insights/v1/finance/insights\"\n",
    "\n",
    "headers = {\n",
    "    'x-api-key': apikey\n",
    "    }\n",
    "\n",
    "for x in stocks:\n",
    "    querystring = {\"symbols\": x}\n",
    "    querystring2 = {\"symbol\": x}\n",
    "\n",
    "    response = requests.request(\"GET\", url, headers=headers, params=querystring)\n",
    "    stocks_json = response.json()\n",
    "\n",
    "    response2 = requests.request(\"GET\", url2, headers=headers, params=querystring2)\n",
    "    stocks2_json = response2.json()\n",
    "    \n",
    "    \n",
    "    print(stocks_json['quoteResponse']['result'][0][\"longName\"] + \" (\" + stocks_json['quoteResponse']['result'][0][\"symbol\"] + \")\" + \n",
    "          \"\\n - Current Market price: $\" + str(stocks_json['quoteResponse']['result'][0][\"regularMarketPrice\"]) + \n",
    "          \"\\n - Target Mean price: $\" + str(stocks2_json[\"finance\"][\"result\"][\"instrumentInfo\"][\"recommendation\"][\"targetPrice\"]) + \n",
    "         \"\\n - 52 week high: \" + str(stocks_json['quoteResponse']['result'][0][\"fiftyTwoWeekHigh\"]) + \n",
    "          \"\\n - 52 week low: \" + str(stocks_json['quoteResponse']['result'][0][\"fiftyTwoWeekLow\"])         \n",
    "         )\n",
    "    "
   ]
  },
  {
   "cell_type": "markdown",
   "id": "1850fea9-8526-4708-8eb0-9ef88094f02d",
   "metadata": {},
   "source": [
    "#### Also, output 5 of the current trending stock."
   ]
  },
  {
   "cell_type": "code",
   "execution_count": 207,
   "id": "0e02d9f0-0392-4199-950f-60ecd8251842",
   "metadata": {},
   "outputs": [
    {
     "name": "stdout",
     "output_type": "stream",
     "text": [
      "SMCI\n",
      "BABA\n",
      "PYPL\n",
      "NU\n",
      "KTTA\n"
     ]
    }
   ],
   "source": [
    "urlTrending = \"https://yfapi.net/v1/finance/trending/US\"\n",
    "\n",
    "headers = {\n",
    "    'x-api-key': apikey\n",
    "}\n",
    "\n",
    "response = requests.get(urlTrending, headers=headers)\n",
    "trending_json = response.json()\n",
    "\n",
    "ticker_list = []\n",
    "for quote in trending_json['finance']['result'][0]['quotes']:\n",
    "    ticker_list.append(quote['symbol'])\n",
    "\n",
    "for i in range(5):\n",
    "    print(ticker_list[i])"
   ]
  },
  {
   "cell_type": "markdown",
   "id": "b2525367-894f-4f48-892a-1939ce03c314",
   "metadata": {},
   "source": [
    "#### 3.\tPut that data in a DataFrame and then store that to a CSV file"
   ]
  },
  {
   "cell_type": "code",
   "execution_count": 212,
   "id": "173746ea-a73b-40a1-b536-d49ff426f2cd",
   "metadata": {},
   "outputs": [
    {
     "name": "stdout",
     "output_type": "stream",
     "text": [
      "  Company Name Symbol  Current Market Price ($)  Target Mean Price ($)  \\\n",
      "0   Apple Inc.   AAPL                    227.52                  250.0   \n",
      "\n",
      "   52 Week High ($)  52 Week Low ($)  \n",
      "0            237.23           164.08  \n"
     ]
    }
   ],
   "source": [
    "data = []\n",
    "\n",
    "for x in stocks:\n",
    "    querystring = {\"symbols\": x}\n",
    "    querystring2 = {\"symbol\": x}\n",
    "\n",
    "    response = requests.request(\"GET\", url, headers=headers, params=querystring)\n",
    "    stocks_json = response.json()\n",
    "\n",
    "    response2 = requests.request(\"GET\", url2, headers=headers, params=querystring2)\n",
    "    stocks2_json = response2.json()\n",
    "\n",
    "    long_name = stocks_json['quoteResponse']['result'][0][\"longName\"]\n",
    "    symbol = stocks_json['quoteResponse']['result'][0][\"symbol\"]\n",
    "    current_market_price = stocks_json['quoteResponse']['result'][0][\"regularMarketPrice\"]\n",
    "    target_mean_price = stocks2_json[\"finance\"][\"result\"][\"instrumentInfo\"][\"recommendation\"][\"targetPrice\"]\n",
    "    fifty_two_week_high = stocks_json['quoteResponse']['result'][0][\"fiftyTwoWeekHigh\"]\n",
    "    fifty_two_week_low = stocks_json['quoteResponse']['result'][0][\"fiftyTwoWeekLow\"]\n",
    "\n",
    "    data.append({\n",
    "        \"Company Name\": long_name,\n",
    "        \"Symbol\": symbol,\n",
    "        \"Current Market Price ($)\": current_market_price,\n",
    "        \"Target Mean Price ($)\": target_mean_price,\n",
    "        \"52 Week High ($)\": fifty_two_week_high,\n",
    "        \"52 Week Low ($)\": fifty_two_week_low\n",
    "    })\n",
    "\n",
    "df = pd.DataFrame(data)\n",
    "\n",
    "df"
   ]
  },
  {
   "cell_type": "markdown",
   "id": "e9f585fb-43e6-4d4d-9d2b-9c0c382638e4",
   "metadata": {},
   "source": [
    "4.\tHandle Errors (IE, the stock doesn’t exist and/or the API is not returning information)"
   ]
  },
  {
   "cell_type": "markdown",
   "id": "b8f5c2f5-66ea-446b-94b7-71482af78af7",
   "metadata": {},
   "source": [
    "Bonus –\n",
    "1.\tUse MatPlotLib to chart the historical price of a stock price’s highest value over the past 5 days. "
   ]
  },
  {
   "cell_type": "code",
   "execution_count": 216,
   "id": "54253c30-d386-4e11-a729-0d02fab8a6cb",
   "metadata": {},
   "outputs": [
    {
     "data": {
      "text/plain": [
       "[{'Company Name': 'Apple Inc.',\n",
       "  'Symbol': 'AAPL',\n",
       "  'Current Market Price ($)': 227.52,\n",
       "  'Target Mean Price ($)': 250.0,\n",
       "  '52 Week High ($)': 237.23,\n",
       "  '52 Week Low ($)': 164.08}]"
      ]
     },
     "execution_count": 216,
     "metadata": {},
     "output_type": "execute_result"
    }
   ],
   "source": []
  }
 ],
 "metadata": {
  "kernelspec": {
   "display_name": "Python 3 (ipykernel)",
   "language": "python",
   "name": "python3"
  },
  "language_info": {
   "codemirror_mode": {
    "name": "ipython",
    "version": 3
   },
   "file_extension": ".py",
   "mimetype": "text/x-python",
   "name": "python",
   "nbconvert_exporter": "python",
   "pygments_lexer": "ipython3",
   "version": "3.12.4"
  }
 },
 "nbformat": 4,
 "nbformat_minor": 5
}

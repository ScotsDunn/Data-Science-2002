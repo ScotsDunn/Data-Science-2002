{
  "nbformat": 4,
  "nbformat_minor": 0,
  "metadata": {
    "colab": {
      "provenance": [],
      "include_colab_link": true
    },
    "kernelspec": {
      "name": "python3",
      "display_name": "Python 3"
    },
    "language_info": {
      "name": "python"
    }
  },
  "cells": [
    {
      "cell_type": "markdown",
      "metadata": {
        "id": "view-in-github",
        "colab_type": "text"
      },
      "source": [
        "<a href=\"https://colab.research.google.com/github/ScotsDunn/Data-Science-2002/blob/main/Project%201/DS_2002_Project_1.ipynb\" target=\"_parent\"><img src=\"https://colab.research.google.com/assets/colab-badge.svg\" alt=\"Open In Colab\"/></a>"
      ]
    },
    {
      "cell_type": "markdown",
      "source": [
        "# DS 2002 Project 1\n",
        "Ashley Nguyne (rhw9tv) and Scotty Dunn (jgr6gg)"
      ],
      "metadata": {
        "id": "v7upbGNSHHpb"
      }
    },
    {
      "cell_type": "markdown",
      "source": [
        "CSV = https://www.kaggle.com/datasets/singhnavjot2062001/11000-medicine-details"
      ],
      "metadata": {
        "id": "IENxsnrRHMoW"
      }
    },
    {
      "cell_type": "markdown",
      "source": [
        "JSON = https://www.kaggle.com/datasets/bricevergnou/spotify-recommendation"
      ],
      "metadata": {
        "id": "YV6Hu4A6HhQX"
      }
    },
    {
      "cell_type": "markdown",
      "source": [
        "## Import data and convert to dataframe\n"
      ],
      "metadata": {
        "id": "D15xlQMJRoeH"
      }
    },
    {
      "cell_type": "code",
      "source": [
        "#Import necessary packages\n",
        "import pandas as pd\n",
        "from google.colab import files\n",
        "from urllib.request import urlopen\n",
        "import json\n",
        "import sqlite3\n",
        "\n",
        "#Fetch data from github and convert to dataframes\n",
        "csvURL = 'https://github.com/ScotsDunn/DS2002-Data-Project1/raw/refs/heads/main/Data/Medicine_Details.csv'\n",
        "try:\n",
        "  medicine_df = pd.read_csv(csvURL,index_col=0)\n",
        "except:\n",
        "  print(\"Error loading in medicine csv: make sure that github raw URL is active and valid\")\n",
        "\n",
        "jsonURL = \"  https://github.com/ScotsDunn/DS2002-Data-Project1/raw/refs/heads/main/Data/Spotify%20Data.json\"\n",
        "try:\n",
        "  response = urlopen(jsonURL)\n",
        "  spotify_json = json.loads(response.read())\n",
        "  spotify_df = pd.DataFrame(spotify_json['audio_features'])\n",
        "except:\n",
        "  print(\"Error loading in spotify csv: make sure that github raw URL is active and valid\")"
      ],
      "metadata": {
        "id": "WB1PX52lITKa"
      },
      "execution_count": null,
      "outputs": []
    },
    {
      "cell_type": "markdown",
      "source": [
        "##Delete columns from dataframe based on what user wants"
      ],
      "metadata": {
        "id": "bJ7rWaw8Yl5H"
      }
    },
    {
      "cell_type": "code",
      "source": [
        "#Print number of rows and columns in dataframes before modifications\n",
        "print(\"Medicine dimensions pre-modification\")\n",
        "m_rows = len(medicine_df.index)\n",
        "m_cols = len(medicine_df.columns)\n",
        "print(\"Medicine rows: \", m_rows)\n",
        "print(\"Medicine columns: \", m_cols)\n",
        "print(\"Medicine column names:\" + str(medicine_df.columns.tolist()))\n",
        "\n",
        "print(\"------\")\n",
        "\n",
        "print(\"Spotify dimensions pre-modification\")\n",
        "s_rows = len(spotify_df.index)\n",
        "s_cols = len(spotify_df.columns)\n",
        "print(\"Spotify rows: \", s_rows)\n",
        "print(\"Spotify columns: \", s_cols)\n",
        "print(\"Spotify column names:\" + str(spotify_df.columns.tolist()))"
      ],
      "metadata": {
        "id": "6wdlw9BGcloD",
        "colab": {
          "base_uri": "https://localhost:8080/"
        },
        "outputId": "e2f4bb68-7289-4f2e-b225-1cc842ff9ae6"
      },
      "execution_count": null,
      "outputs": [
        {
          "output_type": "stream",
          "name": "stdout",
          "text": [
            "Medicine dimensions pre-modification\n",
            "Medicine rows:  11825\n",
            "Medicine columns:  8\n",
            "Medicine column names:['Composition', 'Uses', 'Side_effects', 'Image URL', 'Manufacturer', 'Excellent Review %', 'Average Review %', 'Poor Review %']\n",
            "------\n",
            "Spotify dimensions pre-modification\n",
            "Spotify rows:  100\n",
            "Spotify columns:  18\n",
            "Spotify column names:['danceability', 'energy', 'key', 'loudness', 'mode', 'speechiness', 'acousticness', 'instrumentalness', 'liveness', 'valence', 'tempo', 'type', 'id', 'uri', 'track_href', 'analysis_url', 'duration_ms', 'time_signature']\n"
          ]
        }
      ]
    },
    {
      "cell_type": "code",
      "source": [
        "#Function that can delete column from any dataframe based on user input\n",
        "def deleteCol(df, df_name):\n",
        "  answer = \"\"\n",
        "  while(answer != \"Y\" and answer != \"N\"): #Runs while loop until user enters Y or N\n",
        "    print(f\"\\nWould you like to delete a column from {df_name} Y/N\")\n",
        "    answer = input()\n",
        "    if(answer == \"Y\"): #If user answers Y to wanting to delete a column, enters IF statement to take input and delete that column\n",
        "      print(f\"{df_name} Column names:\" + str(df.columns.tolist()))\n",
        "      print(f\"\\nWhat column do you want to delete?\")\n",
        "      answer = str(input())\n",
        "      try:    #Tests to see if column exists\n",
        "        del df[answer]\n",
        "      except:\n",
        "        print(\"Column does not exist\")\n",
        "\n",
        "    print(f\"\\n{df_name} dimensions post modification\")\n",
        "    new_mrows = len(df.index)\n",
        "    new_mcols = len(df.columns)\n",
        "    print(f\"New {df_name} rows: \", new_mrows)\n",
        "    print(f\"New {df_name} columns: \", new_mcols)\n",
        "\n",
        "#Run delete column functions on both dataframes\n",
        "deleteCol(medicine_df, \"Medicine Dataframe\")\n",
        "print(\"--------\")\n",
        "deleteCol(spotify_df, \"Spotify Dataframe\")"
      ],
      "metadata": {
        "colab": {
          "base_uri": "https://localhost:8080/"
        },
        "id": "m7kBUnG_W3BH",
        "outputId": "b1d4fb57-5029-4015-dd85-f5d1ea09a167"
      },
      "execution_count": null,
      "outputs": [
        {
          "output_type": "stream",
          "name": "stdout",
          "text": [
            "\n",
            "Would you like to delete a column from Medicine Dataframe Y/N\n",
            "Y\n",
            "Medicine Dataframe Column names:['Composition', 'Uses', 'Side_effects', 'Image URL', 'Manufacturer', 'Excellent Review %', 'Average Review %', 'Poor Review %']\n",
            "\n",
            "What column do you want to delete?\n",
            "Image URL\n",
            "\n",
            "Medicine Dataframe dimensions post modification\n",
            "New Medicine Dataframe rows:  11825\n",
            "New Medicine Dataframe columns:  7\n",
            "\n",
            "Would you like to delete a column from Medicine Dataframe Y/N\n",
            "Y\n",
            "Medicine Dataframe Column names:['Composition', 'Uses', 'Side_effects', 'Manufacturer', 'Excellent Review %', 'Average Review %', 'Poor Review %']\n",
            "\n",
            "What column do you want to delete?\n",
            "N\n",
            "Column does not exist\n",
            "\n",
            "Medicine Dataframe dimensions post modification\n",
            "New Medicine Dataframe rows:  11825\n",
            "New Medicine Dataframe columns:  7\n",
            "--------\n",
            "\n",
            "Would you like to delete a column from Spotify Dataframe Y/N\n",
            "Y\n",
            "Spotify Dataframe Column names:['danceability', 'energy', 'key', 'loudness', 'mode', 'speechiness', 'acousticness', 'instrumentalness', 'liveness', 'valence', 'tempo', 'type', 'id', 'uri', 'track_href', 'analysis_url', 'duration_ms', 'time_signature']\n",
            "\n",
            "What column do you want to delete?\n",
            "Volume\n",
            "Column does not exist\n",
            "\n",
            "Spotify Dataframe dimensions post modification\n",
            "New Spotify Dataframe rows:  100\n",
            "New Spotify Dataframe columns:  18\n",
            "\n",
            "Would you like to delete a column from Spotify Dataframe Y/N\n",
            "Y\n",
            "Spotify Dataframe Column names:['danceability', 'energy', 'key', 'loudness', 'mode', 'speechiness', 'acousticness', 'instrumentalness', 'liveness', 'valence', 'tempo', 'type', 'id', 'uri', 'track_href', 'analysis_url', 'duration_ms', 'time_signature']\n",
            "\n",
            "What column do you want to delete?\n",
            "energy\n",
            "\n",
            "Spotify Dataframe dimensions post modification\n",
            "New Spotify Dataframe rows:  100\n",
            "New Spotify Dataframe columns:  17\n",
            "\n",
            "Would you like to delete a column from Spotify Dataframe Y/N\n",
            "analysis_url\n",
            "\n",
            "Spotify Dataframe dimensions post modification\n",
            "New Spotify Dataframe rows:  100\n",
            "New Spotify Dataframe columns:  17\n",
            "\n",
            "Would you like to delete a column from Spotify Dataframe Y/N\n",
            "N\n",
            "\n",
            "Spotify Dataframe dimensions post modification\n",
            "New Spotify Dataframe rows:  100\n",
            "New Spotify Dataframe columns:  17\n"
          ]
        }
      ]
    },
    {
      "cell_type": "markdown",
      "source": [
        "## Convert dataframe to datatype of choice"
      ],
      "metadata": {
        "id": "3XCR15fiR0Vy"
      }
    },
    {
      "cell_type": "code",
      "source": [
        "#function that can convert any dataframe into a csv, json, or db file based on user input\n",
        "def convert(df, filename):\n",
        "  answer = \"\"\n",
        "  while(answer != \"Y\" and answer != \"N\"):\n",
        "    print(f\"Would you like to convert {filename} to a CSV file? (Y/N)\") #Ask user if they want to convert df to csv\n",
        "    answer = str(input()).upper()\n",
        "  if(answer == \"Y\"):\n",
        "    file = str(input(\"What would you like the filename to be?\\n\")) + \".csv\"   #gets filename from user and adds correct filetype\n",
        "    try:\n",
        "      df.to_csv(file) #converts dataframe to csv\n",
        "      files.download(file) #google colab function to download file\n",
        "    except:\n",
        "      print(f\"Error downloading {file}\")\n",
        "\n",
        "  answer = \"\"\n",
        "  while(answer != \"Y\" and answer != \"N\"):\n",
        "    print(f\"\\nWould you like to convert {filename} to a JSON file? (Y/N)\") #Ask user if they want to convert df to json\n",
        "    answer = str(input()).upper()\n",
        "  if(answer == \"Y\"):\n",
        "    df.reset_index(drop=True, inplace=True) #Was having issues where df with index could not convert to index. Fixed by simply removing indexes\n",
        "    file = str(input(\"What would you like the filename to be?\\n\")) + \".json\" #gets filename from user and adds correct filetype\n",
        "    try:\n",
        "      df.to_json(file) #converts dataframe to json\n",
        "      files.download(file) #google colab function to download file\n",
        "    except:\n",
        "      print(f\"Error downloading {file}\")\n",
        "\n",
        "  answer = \"\"\n",
        "  while(answer != \"Y\" and answer != \"N\"):\n",
        "    print(f\"\\nWould you like to convert {filename} to a SQL database? (Y/N)\")\n",
        "    answer = str(input()).upper()\n",
        "  if(answer == \"Y\"):\n",
        "    file = str(input(\"\\nWhat would you like the filename to be?\\n\")) + \".db\" #gets filename from user and adds correct filetype\n",
        "    table = str(input(\"What would you like the table name to be?\\n\")) #database structures also require a table name to initialize\n",
        "    try:\n",
        "      conn = sqlite3.connect(file) #creates connection\n",
        "    except:\n",
        "      print(\"Could not form connection to sqlite database\")\n",
        "\n",
        "    try:\n",
        "      df.to_sql(table, conn, if_exists='replace', index=False) #converts dataframe to database\n",
        "      conn.close() #close connection\n",
        "      files.download(file) #downloads file\n",
        "    except:\n",
        "      print(f\"Error downloading {file}\")\n",
        "\n",
        "  print(\"------\")"
      ],
      "metadata": {
        "id": "DceEQBI6R8le"
      },
      "execution_count": null,
      "outputs": []
    },
    {
      "cell_type": "markdown",
      "source": [
        "## Run program"
      ],
      "metadata": {
        "id": "MgJhztHCSGw_"
      }
    },
    {
      "cell_type": "code",
      "source": [
        "#Calls convert functions for both dataframes\n",
        "convert(medicine_df, \"medicine_df\")\n",
        "convert(spotify_df, \"spotify_df\")"
      ],
      "metadata": {
        "colab": {
          "base_uri": "https://localhost:8080/",
          "height": 538
        },
        "id": "SQ-OhdYTaiA9",
        "outputId": "8732b88f-feab-418f-891c-92f26cd4da91"
      },
      "execution_count": null,
      "outputs": [
        {
          "name": "stdout",
          "output_type": "stream",
          "text": [
            "Would you like to convert medicine_df to a CSV file? (Y/N)\n",
            "Y\n",
            "What would you like the filename to be?\n",
            "spotify_csv\n"
          ]
        },
        {
          "output_type": "display_data",
          "data": {
            "text/plain": [
              "<IPython.core.display.Javascript object>"
            ],
            "application/javascript": [
              "\n",
              "    async function download(id, filename, size) {\n",
              "      if (!google.colab.kernel.accessAllowed) {\n",
              "        return;\n",
              "      }\n",
              "      const div = document.createElement('div');\n",
              "      const label = document.createElement('label');\n",
              "      label.textContent = `Downloading \"${filename}\": `;\n",
              "      div.appendChild(label);\n",
              "      const progress = document.createElement('progress');\n",
              "      progress.max = size;\n",
              "      div.appendChild(progress);\n",
              "      document.body.appendChild(div);\n",
              "\n",
              "      const buffers = [];\n",
              "      let downloaded = 0;\n",
              "\n",
              "      const channel = await google.colab.kernel.comms.open(id);\n",
              "      // Send a message to notify the kernel that we're ready.\n",
              "      channel.send({})\n",
              "\n",
              "      for await (const message of channel.messages) {\n",
              "        // Send a message to notify the kernel that we're ready.\n",
              "        channel.send({})\n",
              "        if (message.buffers) {\n",
              "          for (const buffer of message.buffers) {\n",
              "            buffers.push(buffer);\n",
              "            downloaded += buffer.byteLength;\n",
              "            progress.value = downloaded;\n",
              "          }\n",
              "        }\n",
              "      }\n",
              "      const blob = new Blob(buffers, {type: 'application/binary'});\n",
              "      const a = document.createElement('a');\n",
              "      a.href = window.URL.createObjectURL(blob);\n",
              "      a.download = filename;\n",
              "      div.appendChild(a);\n",
              "      a.click();\n",
              "      div.remove();\n",
              "    }\n",
              "  "
            ]
          },
          "metadata": {}
        },
        {
          "output_type": "display_data",
          "data": {
            "text/plain": [
              "<IPython.core.display.Javascript object>"
            ],
            "application/javascript": [
              "download(\"download_0f1ef73c-6451-4df8-a50b-bc51251e4839\", \"spotify_csv.csv\", 3812744)"
            ]
          },
          "metadata": {}
        },
        {
          "name": "stdout",
          "output_type": "stream",
          "text": [
            "\n",
            "Would you like to convert medicine_df to a JSON file? (Y/N)\n",
            "Y\n",
            "What would you like the filename to be?\n",
            "spotify_json\n"
          ]
        },
        {
          "output_type": "display_data",
          "data": {
            "text/plain": [
              "<IPython.core.display.Javascript object>"
            ],
            "application/javascript": [
              "\n",
              "    async function download(id, filename, size) {\n",
              "      if (!google.colab.kernel.accessAllowed) {\n",
              "        return;\n",
              "      }\n",
              "      const div = document.createElement('div');\n",
              "      const label = document.createElement('label');\n",
              "      label.textContent = `Downloading \"${filename}\": `;\n",
              "      div.appendChild(label);\n",
              "      const progress = document.createElement('progress');\n",
              "      progress.max = size;\n",
              "      div.appendChild(progress);\n",
              "      document.body.appendChild(div);\n",
              "\n",
              "      const buffers = [];\n",
              "      let downloaded = 0;\n",
              "\n",
              "      const channel = await google.colab.kernel.comms.open(id);\n",
              "      // Send a message to notify the kernel that we're ready.\n",
              "      channel.send({})\n",
              "\n",
              "      for await (const message of channel.messages) {\n",
              "        // Send a message to notify the kernel that we're ready.\n",
              "        channel.send({})\n",
              "        if (message.buffers) {\n",
              "          for (const buffer of message.buffers) {\n",
              "            buffers.push(buffer);\n",
              "            downloaded += buffer.byteLength;\n",
              "            progress.value = downloaded;\n",
              "          }\n",
              "        }\n",
              "      }\n",
              "      const blob = new Blob(buffers, {type: 'application/binary'});\n",
              "      const a = document.createElement('a');\n",
              "      a.href = window.URL.createObjectURL(blob);\n",
              "      a.download = filename;\n",
              "      div.appendChild(a);\n",
              "      a.click();\n",
              "      div.remove();\n",
              "    }\n",
              "  "
            ]
          },
          "metadata": {}
        },
        {
          "output_type": "display_data",
          "data": {
            "text/plain": [
              "<IPython.core.display.Javascript object>"
            ],
            "application/javascript": [
              "download(\"download_0aadbab9-713a-47e4-8845-69772f29d161\", \"spotify_json.json\", 4297458)"
            ]
          },
          "metadata": {}
        },
        {
          "name": "stdout",
          "output_type": "stream",
          "text": [
            "\n",
            "Would you like to convert medicine_df to a SQL database? (Y/N)\n",
            "spotify_sql\n",
            "\n",
            "Would you like to convert medicine_df to a SQL database? (Y/N)\n",
            "Y\n",
            "\n",
            "What would you like the filename to be?\n",
            "spotify_sql\n",
            "What would you like the table name to be?\n",
            "Spotify\n"
          ]
        },
        {
          "output_type": "display_data",
          "data": {
            "text/plain": [
              "<IPython.core.display.Javascript object>"
            ],
            "application/javascript": [
              "\n",
              "    async function download(id, filename, size) {\n",
              "      if (!google.colab.kernel.accessAllowed) {\n",
              "        return;\n",
              "      }\n",
              "      const div = document.createElement('div');\n",
              "      const label = document.createElement('label');\n",
              "      label.textContent = `Downloading \"${filename}\": `;\n",
              "      div.appendChild(label);\n",
              "      const progress = document.createElement('progress');\n",
              "      progress.max = size;\n",
              "      div.appendChild(progress);\n",
              "      document.body.appendChild(div);\n",
              "\n",
              "      const buffers = [];\n",
              "      let downloaded = 0;\n",
              "\n",
              "      const channel = await google.colab.kernel.comms.open(id);\n",
              "      // Send a message to notify the kernel that we're ready.\n",
              "      channel.send({})\n",
              "\n",
              "      for await (const message of channel.messages) {\n",
              "        // Send a message to notify the kernel that we're ready.\n",
              "        channel.send({})\n",
              "        if (message.buffers) {\n",
              "          for (const buffer of message.buffers) {\n",
              "            buffers.push(buffer);\n",
              "            downloaded += buffer.byteLength;\n",
              "            progress.value = downloaded;\n",
              "          }\n",
              "        }\n",
              "      }\n",
              "      const blob = new Blob(buffers, {type: 'application/binary'});\n",
              "      const a = document.createElement('a');\n",
              "      a.href = window.URL.createObjectURL(blob);\n",
              "      a.download = filename;\n",
              "      div.appendChild(a);\n",
              "      a.click();\n",
              "      div.remove();\n",
              "    }\n",
              "  "
            ]
          },
          "metadata": {}
        },
        {
          "output_type": "display_data",
          "data": {
            "text/plain": [
              "<IPython.core.display.Javascript object>"
            ],
            "application/javascript": [
              "download(\"download_fdfc480d-1d58-45a3-8fd5-dbd478316874\", \"spotify_sql.db\", 3788800)"
            ]
          },
          "metadata": {}
        },
        {
          "output_type": "stream",
          "name": "stdout",
          "text": [
            "------\n",
            "Would you like to convert spotify_df to a CSV file? (Y/N)\n",
            "N\n",
            "\n",
            "Would you like to convert spotify_df to a JSON file? (Y/N)\n",
            "N\n",
            "\n",
            "Would you like to convert spotify_df to a SQL database? (Y/N)\n",
            "N\n",
            "------\n"
          ]
        }
      ]
    }
  ]
}